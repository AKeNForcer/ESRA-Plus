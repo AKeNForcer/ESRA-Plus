{
 "cells": [
  {
   "cell_type": "code",
   "execution_count": 1,
   "id": "e6d48da5",
   "metadata": {},
   "outputs": [
    {
     "name": "stderr",
     "output_type": "stream",
     "text": [
      "2023-04-20 14:58:09.905113: I tensorflow/core/platform/cpu_feature_guard.cc:193] This TensorFlow binary is optimized with oneAPI Deep Neural Network Library (oneDNN) to use the following CPU instructions in performance-critical operations:  AVX2 FMA\n",
      "To enable them in other operations, rebuild TensorFlow with the appropriate compiler flags.\n",
      "2023-04-20 14:58:10.547166: W tensorflow/compiler/xla/stream_executor/platform/default/dso_loader.cc:64] Could not load dynamic library 'libnvinfer.so.7'; dlerror: libnvinfer.so.7: cannot open shared object file: No such file or directory; LD_LIBRARY_PATH: /usr/local/nvidia/lib:/usr/local/nvidia/lib64\n",
      "2023-04-20 14:58:10.547214: W tensorflow/compiler/xla/stream_executor/platform/default/dso_loader.cc:64] Could not load dynamic library 'libnvinfer_plugin.so.7'; dlerror: libnvinfer_plugin.so.7: cannot open shared object file: No such file or directory; LD_LIBRARY_PATH: /usr/local/nvidia/lib:/usr/local/nvidia/lib64\n",
      "2023-04-20 14:58:10.547219: W tensorflow/compiler/tf2tensorrt/utils/py_utils.cc:38] TF-TRT Warning: Cannot dlopen some TensorRT libraries. If you would like to use Nvidia GPU with TensorRT, please make sure the missing libraries mentioned above are installed properly.\n",
      "2023-04-20 14:58:11 - Loading faiss with AVX2 support.\n",
      "2023-04-20 14:58:11 - Successfully loaded faiss with AVX2 support.\n"
     ]
    }
   ],
   "source": [
    "from pipelines.gpl_biotsdae import GplBioTsdae"
   ]
  },
  {
   "cell_type": "code",
   "execution_count": 2,
   "id": "c092cdcc",
   "metadata": {},
   "outputs": [
    {
     "name": "stderr",
     "output_type": "stream",
     "text": [
      "[2023-04-20 14:58:11] INFO [sentence_transformers.SentenceTransformer.__init__:66] Load pretrained SentenceTransformer: ./pipelines/gpl/BIO_TSDAE/190000\n"
     ]
    },
    {
     "data": {
      "application/vnd.jupyter.widget-view+json": {
       "model_id": "156fea6ab3554415a67e5f869c19d9f0",
       "version_major": 2,
       "version_minor": 0
      },
      "text/plain": [
       "Batches:   0%|          | 0/1 [00:00<?, ?it/s]"
      ]
     },
     "metadata": {},
     "output_type": "display_data"
    },
    {
     "name": "stderr",
     "output_type": "stream",
     "text": [
      "[2023-04-20 14:58:20] INFO [pipelines.gpl.gpl.toolkit.sbert.load_sbert:68] Set max_seq_length=350\n",
      "[2023-04-20 14:58:20] INFO [beir.retrieval.search.dense.faiss_search._load:39] Loading Faiss ID-mappings from path: ./pipelines/gpl/embedding/BIO_TSDAE/my-index.flat.tsv\n",
      "[2023-04-20 14:58:20] INFO [beir.retrieval.search.dense.faiss_search._load:46] Loading Faiss Index from path: ./pipelines/gpl/embedding/BIO_TSDAE/my-index.flat.faiss\n"
     ]
    }
   ],
   "source": [
    "GPL_Bio = GplBioTsdae()"
   ]
  },
  {
   "cell_type": "code",
   "execution_count": 4,
   "id": "5ba8765f",
   "metadata": {},
   "outputs": [
    {
     "name": "stderr",
     "output_type": "stream",
     "text": [
      "[2023-04-20 15:04:07] INFO [beir.retrieval.search.dense.faiss_search.search:111] Encoding Queries...\n"
     ]
    },
    {
     "data": {
      "application/vnd.jupyter.widget-view+json": {
       "model_id": "ef2d4302a2714a1c82025f37f158a053",
       "version_major": 2,
       "version_minor": 0
      },
      "text/plain": [
       "Batches:   0%|          | 0/1 [00:00<?, ?it/s]"
      ]
     },
     "metadata": {},
     "output_type": "display_data"
    },
    {
     "name": "stderr",
     "output_type": "stream",
     "text": [
      "[2023-04-20 15:04:07] INFO [beir.retrieval.search.dense.faiss_index.search:25] Total search time: 0.079\n"
     ]
    },
    {
     "data": {
      "text/plain": [
       "[('65140', 81.54715728759766),\n",
       " ('83416', 77.12985229492188),\n",
       " ('85416', 77.03297424316406),\n",
       " ('79821', 76.86160278320312),\n",
       " ('58208', 75.79957580566406)]"
      ]
     },
     "execution_count": 4,
     "metadata": {},
     "output_type": "execute_result"
    }
   ],
   "source": [
    "GPL_Bio.eval(\"salld a\", 5)"
   ]
  },
  {
   "cell_type": "code",
   "execution_count": null,
   "id": "b66ea666",
   "metadata": {},
   "outputs": [],
   "source": []
  }
 ],
 "metadata": {
  "kernelspec": {
   "display_name": "Python [conda env:.conda-tsdae]",
   "language": "python",
   "name": "conda-env-.conda-tsdae-py"
  },
  "language_info": {
   "codemirror_mode": {
    "name": "ipython",
    "version": 3
   },
   "file_extension": ".py",
   "mimetype": "text/x-python",
   "name": "python",
   "nbconvert_exporter": "python",
   "pygments_lexer": "ipython3",
   "version": "3.10.8"
  }
 },
 "nbformat": 4,
 "nbformat_minor": 5
}
